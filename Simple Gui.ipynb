{
 "cells": [
  {
   "cell_type": "markdown",
   "id": "cbae5946",
   "metadata": {},
   "source": [
    "# PySimpleGUI"
   ]
  },
  {
   "cell_type": "markdown",
   "id": "d61adbc8",
   "metadata": {},
   "source": [
    "<i>A very versatile and easy to use GUI.  This is intended to take a first look at it, and have you\n",
    "coding your first GUI in a few moments.</i>"
   ]
  },
  {
   "cell_type": "markdown",
   "id": "49887395",
   "metadata": {},
   "source": [
    "##### Module Imports"
   ]
  },
  {
   "cell_type": "code",
   "execution_count": 10,
   "id": "4c94f728",
   "metadata": {},
   "outputs": [],
   "source": [
    "import PySimpleGUI as sg\n",
    "import pandas as pd\n",
    "import openpyxl"
   ]
  },
  {
   "cell_type": "markdown",
   "id": "262fa56a",
   "metadata": {},
   "source": [
    "##### Setting up a Home for the Data"
   ]
  },
  {
   "cell_type": "code",
   "execution_count": 11,
   "id": "f877bdd0",
   "metadata": {},
   "outputs": [],
   "source": [
    "# Looking for the data's home Excel file, if it's not in the same Directory, it will create a blank \n",
    "# dataframe\n",
    "try:\n",
    "    Excel_File = 'GUI_Data_Entry.xlsx'\n",
    "    df = pd.read_excel(Excel_File)\n",
    "except:\n",
    "    df = pd.DataFrame(columns = ['Name', 'Color','German','English','French','Children','Pets'])"
   ]
  },
  {
   "cell_type": "markdown",
   "id": "0e1dd944",
   "metadata": {},
   "source": [
    "##### Clear Function"
   ]
  },
  {
   "cell_type": "code",
   "execution_count": 14,
   "id": "af57d77f",
   "metadata": {},
   "outputs": [],
   "source": [
    "# Defing a clear fields Option\n",
    "def clear_input():\n",
    "    for key in values:\n",
    "        window[key]('')\n",
    "    #reseting non blank defaults\n",
    "    window['Children'](0)\n",
    "    window['Pets'].ResetGroup()\n",
    "    return None"
   ]
  },
  {
   "cell_type": "markdown",
   "id": "2872ac3f",
   "metadata": {},
   "source": [
    "### Show Time!!"
   ]
  },
  {
   "cell_type": "code",
   "execution_count": 15,
   "id": "bff8efdf",
   "metadata": {},
   "outputs": [],
   "source": [
    "sg.theme('DarkGreen1') # https://pysimplegui.readthedocs.io/en/latest/cookbook/#recipe-theme-browser\n",
    "#Setting up the layout Elements\n",
    "layout = [\n",
    "    [sg.Text('Please fill out the following fields:')],\n",
    "    [sg.Text('Name', size=(15,1)), sg.InputText(key='Name')],\n",
    "    [sg.Text('Favorite Color',(15,1)), sg.Combo(['Purple','Blue','Red'], key='Color')],\n",
    "    [sg.Text('They speak',size=(15,1)),\n",
    "                            sg.Checkbox('German',key='German'),\n",
    "                            sg.Checkbox('English',key='English'),\n",
    "                            sg.Checkbox('French',key='French')],\n",
    "    [sg.Text('No. of Children', size=(15,1)), sg.Spin([i for i in range(0,10)],\n",
    "                                                     initial_value=0, key='Children')],\n",
    "    [sg.Text('Have Pets',(15,1)), sg.Radio(['Yes'], 'Pets1', default=-False, key='Pets')],\n",
    "    [sg.Submit(),sg.Button('Clear'), sg.Exit()]\n",
    "]\n",
    "# Popping up our GUI\n",
    "window = sg.Window('Simple data entry form',layout)\n",
    "while True:\n",
    "    event, values = window.read()\n",
    "    if event == sg.WIN_CLOSED or event == 'Exit':\n",
    "        break\n",
    "    if event == 'Clear':\n",
    "        clear_input()\n",
    "    if event == 'Submit':\n",
    "        df = df.append(values, ignore_index=True)\n",
    "        df.to_excel(Excel_File,index=False)\n",
    "        sg.popup('Data Saved')\n",
    "        clear_input()\n",
    "window.close()"
   ]
  },
  {
   "cell_type": "markdown",
   "id": "228f09c1",
   "metadata": {},
   "source": [
    "### For further reading, I invite you to go to PySimpleGUI's page:\n",
    "https://pysimplegui.readthedocs.io/en/latest/ <br>\n",
    "https://pysimplegui.readthedocs.io/en/latest/cookbook/"
   ]
  }
 ],
 "metadata": {
  "kernelspec": {
   "display_name": "Python 3 (ipykernel)",
   "language": "python",
   "name": "python3"
  },
  "language_info": {
   "codemirror_mode": {
    "name": "ipython",
    "version": 3
   },
   "file_extension": ".py",
   "mimetype": "text/x-python",
   "name": "python",
   "nbconvert_exporter": "python",
   "pygments_lexer": "ipython3",
   "version": "3.8.11"
  }
 },
 "nbformat": 4,
 "nbformat_minor": 5
}
